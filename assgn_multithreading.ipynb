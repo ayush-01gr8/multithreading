{
 "cells": [
  {
   "cell_type": "code",
   "execution_count": null,
   "id": "4e8ce8e2-6fda-4441-9626-c30ac5081fe1",
   "metadata": {},
   "outputs": [],
   "source": [
    "1). What is multithreading in python? Why is it used? Name the module used to handle threads in python"
   ]
  },
  {
   "cell_type": "code",
   "execution_count": null,
   "id": "7395a2a3-5770-408b-b4f1-f5f055a5cf80",
   "metadata": {},
   "outputs": [],
   "source": [
    "Multithreading in Python refers to the concurrent execution of multiple threads within a single process. A thread is the smallest unit of a \n",
    "CPU's execution, and a process can contain multiple threads, allowing them to share resources like memory space and file handles. Each thread \n",
    "runs independently, performing its own tasks, but they can also communicate and coordinate with each other\n",
    "\n",
    "Multithreading is used to improve the performance of programs that have tasks that can be executed concurrently, especially when tasks involve\n",
    "waiting for external resources (e.g., I/O operations) or performing computations that can be parallelized.\n",
    "\n",
    "Python provides a built-in module called threading to handle threads. "
   ]
  },
  {
   "cell_type": "code",
   "execution_count": null,
   "id": "29439eed-7c9f-4d05-b584-603d3a402ef0",
   "metadata": {},
   "outputs": [],
   "source": [
    "Q2. Why threading module used? rite the use of the following functions\n",
    "( activeCount\n",
    " currentThread\n",
    " enumerate)"
   ]
  },
  {
   "cell_type": "code",
   "execution_count": null,
   "id": "e4ae8d2b-99ae-469b-82d9-d156375a4562",
   "metadata": {},
   "outputs": [],
   "source": [
    "The threading module in Python is used to create and manage threads, allowing developers to perform concurrent operations within a single process. \n",
    "It simplifies the creation, management, and synchronization of threads, making it easier to work with multithreaded programs. \n",
    "\n",
    "activeCount(): This function returns the number of Thread objects currently alive. \n",
    "currentThread(): This function returns the current Thread object corresponding to the calling thread. \n",
    "enumerate(): This function returns a list of all currently alive Thread objects."
   ]
  },
  {
   "cell_type": "code",
   "execution_count": null,
   "id": "5569d37e-8dcd-4df8-bf76-0d956c2f9d23",
   "metadata": {},
   "outputs": [],
   "source": [
    "Q3. Explain the following functions\n",
    "( run\n",
    " start\n",
    " join\n",
    "' isAlive)"
   ]
  },
  {
   "cell_type": "code",
   "execution_count": null,
   "id": "19cfa7d6-91a0-4c5c-b834-a4c1b4c96b17",
   "metadata": {},
   "outputs": [],
   "source": [
    "run(): This method defines the code that a thread will execute when started. It's typically overridden in a custom thread class that inherits\n",
    "from the threading.Thread class. The run() method contains the actual logic that you want the thread to perform.\n",
    "\n",
    "start(): This method is used to begin the execution of a thread by invoking its run() method. When you call the start() method on a thread object,\n",
    "it initiates the thread's execution, allowing it to run concurrently with other threads in the program. Calling start() \n",
    "is crucial, as it sets up the thread's environment and starts its execution. \n",
    "\n",
    "start(): This method is used to begin the execution of a thread by invoking its run() method. When you call the start() method on a thread object,\n",
    "it initiates the thread's execution, allowing it to run concurrently with other threads in the program. Calling start() is crucial, as it sets up \n",
    "the thread's environment and starts its execution. \n",
    "\n",
    "isAlive(): This method is used to determine if a thread is still active and running. It returns True if the thread is still executing, and \n",
    "False if the thread has completed its execution. This can be helpful to check the status of a thread without blocking the calling thread using join()."
   ]
  },
  {
   "cell_type": "code",
   "execution_count": null,
   "id": "b44842c8-1c8a-49e8-ae6b-62a2fbf18f05",
   "metadata": {},
   "outputs": [],
   "source": [
    "Q4. Write a python program to create two threads. Thread one must print the list of squares and thread\n",
    "two must print the list of cubes"
   ]
  },
  {
   "cell_type": "code",
   "execution_count": 15,
   "id": "542b3993-114d-4224-88c1-1f97b368e811",
   "metadata": {},
   "outputs": [
    {
     "name": "stdout",
     "output_type": "stream",
     "text": [
      "sq of 1: 1\n",
      "sq of 2: 4\n",
      "sq of 3: 9\n",
      "sq of 4: 16\n",
      "sq of 5: 25\n",
      "cube of 1: 1\n",
      "cube of 2: 8\n",
      "cube of 3: 27\n",
      "cube of 4: 64\n",
      "cube of 5: 125\n",
      "both threads have finished\n"
     ]
    }
   ],
   "source": [
    "import threading \n",
    "\n",
    "\n",
    "def calculate_squares(numbers):\n",
    "    for num in numbers:\n",
    "        print(f\"sq of {num}: {num**2}\")\n",
    "        \n",
    "def calculate_cube(numbers):\n",
    "    for num in numbers:\n",
    "         print(f\"cube of {num}: {num**3}\")\n",
    "            \n",
    "if __name__=='__main__':\n",
    "     numbers=[1,2,3,4,5]\n",
    "    \n",
    "     thread1=threading.Thread(target=calculate_squares, args=(numbers,))    \n",
    "     thread2=threading.Thread(target=calculate_cube, args=(numbers,))   \n",
    "\n",
    "     thread1.start()\n",
    "     thread2.start()\n",
    "\n",
    "     thread1.join()\n",
    "     thread2.join()\n",
    "\n",
    "\n",
    "     print(\"both threads have finished\")"
   ]
  },
  {
   "cell_type": "code",
   "execution_count": null,
   "id": "75339ca3-d433-4a22-bb9a-7188d011b85d",
   "metadata": {},
   "outputs": [],
   "source": [
    "5. State advantages and disadvantages of multithreading\n"
   ]
  },
  {
   "cell_type": "code",
   "execution_count": null,
   "id": "a307b6dc-c93f-41f9-8ae8-ac197a38cd2f",
   "metadata": {},
   "outputs": [],
   "source": [
    "#advantage\n",
    "Concurrency: Multithreading allows multiple tasks to be executed concurrently within a single process. This can improve the overall performance \n",
    "of programs by making better use of available resources, especially in systems with multiple processor cores.\n",
    "\n",
    "Responsiveness: Multithreading can improve the responsiveness of applications, particularly in user interfaces. Background tasks can run in \n",
    "separate threads, ensuring that the user interface remains responsive to user input.\n",
    "\n",
    "#disadvantage\n",
    "Complexity: Multithreaded programming can be complex due to issues like race conditions, deadlocks, and synchronization. Debugging and\n",
    "understanding the flow of execution can be challenging.\n",
    "\n",
    "Resource Contention: Threads sharing resources can lead to resource contention and performance issues. Improper synchronization or excessive\n",
    "locking can result in bottlenecks."
   ]
  },
  {
   "cell_type": "code",
   "execution_count": null,
   "id": "bc37fade-92c5-4594-91d6-dc643f10880f",
   "metadata": {},
   "outputs": [],
   "source": [
    "6. Explain deadlocks and race conditions."
   ]
  },
  {
   "cell_type": "code",
   "execution_count": null,
   "id": "f45477b8-9603-4c7d-b956-132e30adcb2a",
   "metadata": {},
   "outputs": [],
   "source": [
    "Deadlocks: A deadlock is a situation in which two or more threads are unable to proceed because each is waiting for a resource held by another.\n",
    "This results in a circular dependency where none of the threads can release their resources and the program comes to a standstill. To resolve\n",
    "deadlocks, strategies like resource allocation order and timeouts can be used.\n",
    "\n",
    "Race Conditions: A race condition occurs when multiple threads access shared resources simultaneously, and at least one of them modifies\n",
    "the resource. The final outcome depends on the order of execution, and if not properly synchronized, it can lead to unpredictable and erroneous\n",
    "results. Mutexes, locks, and other synchronization mechanisms are used to prevent race conditions."
   ]
  }
 ],
 "metadata": {
  "kernelspec": {
   "display_name": "Python 3 (ipykernel)",
   "language": "python",
   "name": "python3"
  },
  "language_info": {
   "codemirror_mode": {
    "name": "ipython",
    "version": 3
   },
   "file_extension": ".py",
   "mimetype": "text/x-python",
   "name": "python",
   "nbconvert_exporter": "python",
   "pygments_lexer": "ipython3",
   "version": "3.10.8"
  }
 },
 "nbformat": 4,
 "nbformat_minor": 5
}
